{
  "nbformat": 4,
  "nbformat_minor": 0,
  "metadata": {
    "colab": {
      "provenance": [],
      "authorship_tag": "ABX9TyPP/iWOoL6BiqDTyjGS18Cg",
      "include_colab_link": true
    },
    "kernelspec": {
      "name": "python3",
      "display_name": "Python 3"
    },
    "language_info": {
      "name": "python"
    }
  },
  "cells": [
    {
      "cell_type": "markdown",
      "metadata": {
        "id": "view-in-github",
        "colab_type": "text"
      },
      "source": [
        "<a href=\"https://colab.research.google.com/github/Marcelino369/Actividad14/blob/main/Actividad14_2.ipynb\" target=\"_parent\"><img src=\"https://colab.research.google.com/assets/colab-badge.svg\" alt=\"Open In Colab\"/></a>"
      ]
    },
    {
      "cell_type": "code",
      "execution_count": null,
      "metadata": {
        "colab": {
          "base_uri": "https://localhost:8080/"
        },
        "id": "-tL8GPLbTmYT",
        "outputId": "829f2cc8-638d-4fa9-ed31-25b21ed6ec5f"
      },
      "outputs": [
        {
          "output_type": "stream",
          "name": "stdout",
          "text": [
            "Requirement already satisfied: pyspark in /usr/local/lib/python3.10/dist-packages (3.5.3)\n",
            "Requirement already satisfied: py4j==0.10.9.7 in /usr/local/lib/python3.10/dist-packages (from pyspark) (0.10.9.7)\n"
          ]
        }
      ],
      "source": [
        "!pip install pyspark"
      ]
    },
    {
      "cell_type": "code",
      "source": [
        "from pyspark.sql import SparkSession\n",
        "from pyspark.sql.functions import col, mean, corr\n",
        "\n",
        "\n",
        "spark = SparkSession.builder.appName(\"Semana14-2\").getOrCreate()\n"
      ],
      "metadata": {
        "id": "5Mb_64x6Wrfy"
      },
      "execution_count": null,
      "outputs": []
    },
    {
      "cell_type": "code",
      "source": [
        "spark"
      ],
      "metadata": {
        "colab": {
          "base_uri": "https://localhost:8080/",
          "height": 222
        },
        "id": "Lnmu5T6hY9ZB",
        "outputId": "758b073d-5121-4a01-a700-b35d1e4b5a8c"
      },
      "execution_count": null,
      "outputs": [
        {
          "output_type": "execute_result",
          "data": {
            "text/plain": [
              "<pyspark.sql.session.SparkSession at 0x787a6fa7be20>"
            ],
            "text/html": [
              "\n",
              "            <div>\n",
              "                <p><b>SparkSession - in-memory</b></p>\n",
              "                \n",
              "        <div>\n",
              "            <p><b>SparkContext</b></p>\n",
              "\n",
              "            <p><a href=\"http://30184b7ba464:4040\">Spark UI</a></p>\n",
              "\n",
              "            <dl>\n",
              "              <dt>Version</dt>\n",
              "                <dd><code>v3.5.3</code></dd>\n",
              "              <dt>Master</dt>\n",
              "                <dd><code>local[*]</code></dd>\n",
              "              <dt>AppName</dt>\n",
              "                <dd><code>Semana14-2</code></dd>\n",
              "            </dl>\n",
              "        </div>\n",
              "        \n",
              "            </div>\n",
              "        "
            ]
          },
          "metadata": {},
          "execution_count": 23
        }
      ]
    },
    {
      "cell_type": "code",
      "source": [
        "# Cargamos el archivo CSV\n",
        "df = spark.read.csv(\"Supermarket_Sales.csv\", header=True, inferSchema=True)\n",
        "\n",
        "df.show()"
      ],
      "metadata": {
        "colab": {
          "base_uri": "https://localhost:8080/"
        },
        "id": "op1HnH-5Y-KL",
        "outputId": "2d8f905c-9211-4fe2-bfde-ed80002e4e8a"
      },
      "execution_count": null,
      "outputs": [
        {
          "output_type": "stream",
          "name": "stdout",
          "text": [
            "+-----------+------+---------+-------------+------+--------------------+----------+--------+-------+--------+---------+-------------------+-----------+------+-----------------------+------------+------+\n",
            "| Invoice ID|Branch|     City|Customer type|Gender|        Product line|Unit price|Quantity| Tax 5%|   Total|     Date|               Time|    Payment|  cogs|gross margin percentage|gross income|Rating|\n",
            "+-----------+------+---------+-------------+------+--------------------+----------+--------+-------+--------+---------+-------------------+-----------+------+-----------------------+------------+------+\n",
            "|750-67-8428|     A|   Yangon|       Member|Female|   Health and beauty|     74.69|       7|26.1415|548.9715| 1/5/2019|2024-11-13 13:08:00|    Ewallet|522.83|            4.761904762|     26.1415|   9.1|\n",
            "|226-31-3081|     C|Naypyitaw|       Normal|Female|Electronic access...|     15.28|       5|   3.82|   80.22| 3/8/2019|2024-11-13 10:29:00|       Cash|  76.4|            4.761904762|        3.82|   9.6|\n",
            "|631-41-3108|     A|   Yangon|       Normal|  Male|  Home and lifestyle|     46.33|       7|16.2155|340.5255| 3/3/2019|2024-11-13 13:23:00|Credit card|324.31|            4.761904762|     16.2155|   7.4|\n",
            "|123-19-1176|     A|   Yangon|       Member|  Male|   Health and beauty|     58.22|       8| 23.288| 489.048|1/27/2019|2024-11-13 20:33:00|    Ewallet|465.76|            4.761904762|      23.288|   8.4|\n",
            "|373-73-7910|     A|   Yangon|       Normal|  Male|   Sports and travel|     86.31|       7|30.2085|634.3785| 2/8/2019|2024-11-13 10:37:00|    Ewallet|604.17|            4.761904762|     30.2085|   5.3|\n",
            "|699-14-3026|     C|Naypyitaw|       Normal|  Male|Electronic access...|     85.39|       7|29.8865|627.6165|3/25/2019|2024-11-13 18:30:00|    Ewallet|597.73|            4.761904762|     29.8865|   4.1|\n",
            "|355-53-5943|     A|   Yangon|       Member|Female|Electronic access...|     68.84|       6| 20.652| 433.692|2/25/2019|2024-11-13 14:36:00|    Ewallet|413.04|            4.761904762|      20.652|   5.8|\n",
            "|315-22-5665|     C|Naypyitaw|       Normal|Female|  Home and lifestyle|     73.56|      10|  36.78|  772.38|2/24/2019|2024-11-13 11:38:00|    Ewallet| 735.6|            4.761904762|       36.78|   8.0|\n",
            "|665-32-9167|     A|   Yangon|       Member|Female|   Health and beauty|     36.26|       2|  3.626|  76.146|1/10/2019|2024-11-13 17:15:00|Credit card| 72.52|            4.761904762|       3.626|   7.2|\n",
            "|692-92-5582|     B| Mandalay|       Member|Female|  Food and beverages|     54.84|       3|  8.226| 172.746|2/20/2019|2024-11-13 13:27:00|Credit card|164.52|            4.761904762|       8.226|   5.9|\n",
            "|351-62-0822|     B| Mandalay|       Member|Female| Fashion accessories|     14.48|       4|  2.896|  60.816| 2/6/2019|2024-11-13 18:07:00|    Ewallet| 57.92|            4.761904762|       2.896|   4.5|\n",
            "|529-56-3974|     B| Mandalay|       Member|  Male|Electronic access...|     25.51|       4|  5.102| 107.142| 3/9/2019|2024-11-13 17:03:00|       Cash|102.04|            4.761904762|       5.102|   6.8|\n",
            "|365-64-0515|     A|   Yangon|       Normal|Female|Electronic access...|     46.95|       5|11.7375|246.4875|2/12/2019|2024-11-13 10:25:00|    Ewallet|234.75|            4.761904762|     11.7375|   7.1|\n",
            "|252-56-2699|     A|   Yangon|       Normal|  Male|  Food and beverages|     43.19|      10| 21.595| 453.495| 2/7/2019|2024-11-13 16:48:00|    Ewallet| 431.9|            4.761904762|      21.595|   8.2|\n",
            "|829-34-3910|     A|   Yangon|       Normal|Female|   Health and beauty|     71.38|      10|  35.69|  749.49|3/29/2019|2024-11-13 19:21:00|       Cash| 713.8|            4.761904762|       35.69|   5.7|\n",
            "|299-46-1805|     B| Mandalay|       Member|Female|   Sports and travel|     93.72|       6| 28.116| 590.436|1/15/2019|2024-11-13 16:19:00|       Cash|562.32|            4.761904762|      28.116|   4.5|\n",
            "|656-95-9349|     A|   Yangon|       Member|Female|   Health and beauty|     68.93|       7|24.1255|506.6355|3/11/2019|2024-11-13 11:03:00|Credit card|482.51|            4.761904762|     24.1255|   4.6|\n",
            "|765-26-6951|     A|   Yangon|       Normal|  Male|   Sports and travel|     72.61|       6| 21.783| 457.443| 1/1/2019|2024-11-13 10:39:00|Credit card|435.66|            4.761904762|      21.783|   6.9|\n",
            "|329-62-1586|     A|   Yangon|       Normal|  Male|  Food and beverages|     54.67|       3| 8.2005|172.2105|1/21/2019|2024-11-13 18:00:00|Credit card|164.01|            4.761904762|      8.2005|   8.6|\n",
            "|319-50-3348|     B| Mandalay|       Normal|Female|  Home and lifestyle|      40.3|       2|   4.03|   84.63|3/11/2019|2024-11-13 15:30:00|    Ewallet|  80.6|            4.761904762|        4.03|   4.4|\n",
            "+-----------+------+---------+-------------+------+--------------------+----------+--------+-------+--------+---------+-------------------+-----------+------+-----------------------+------------+------+\n",
            "only showing top 20 rows\n",
            "\n"
          ]
        }
      ]
    },
    {
      "cell_type": "markdown",
      "source": [
        "## MEDIA:\n",
        "Es el promedio de un conjunto de datos. Se calcula sumando todos los valores y dividiendo entre la cantidad de elementos."
      ],
      "metadata": {
        "id": "tmGUGXItfO9T"
      }
    },
    {
      "cell_type": "code",
      "source": [
        "# Filtramos por una fecha especifica(Date) y una línea de producto(Product Line)\n",
        "# Para Obtener: El promedio o LA MEDIA de ventas que tuvo\n",
        "\n",
        "fecha_especifica = '1/1/2019'\n",
        "linea_producto = 'Electronic accessories'\n",
        "\n",
        "# Filtrar el DataFrame por fecha y línea de producto\n",
        "df_filtrado = df.filter((df[\"Date\"] == fecha_especifica) & (df[\"Product line\"] == linea_producto))\n",
        "df_filtrado.show()\n",
        "# Calcular la media del precio unitario de nuestro *df_filtrado\n",
        "media = df_filtrado.select(mean(col(\"Unit price\")).alias(\"Media\")).collect()[0][\"Media\"]\n",
        "\n",
        "# Resultado\n",
        "print(f\"Media del precio unitario para '{linea_producto}' en la fecha {fecha_especifica}: {media}\")"
      ],
      "metadata": {
        "colab": {
          "base_uri": "https://localhost:8080/"
        },
        "id": "fIWDSs1-ZR3h",
        "outputId": "cdad7697-ad40-4239-9168-dbd03a8f6231"
      },
      "execution_count": null,
      "outputs": [
        {
          "output_type": "stream",
          "name": "stdout",
          "text": [
            "+-----------+------+---------+-------------+------+--------------------+----------+--------+------+-------+--------+-------------------+-----------+------+-----------------------+------------+------+\n",
            "| Invoice ID|Branch|     City|Customer type|Gender|        Product line|Unit price|Quantity|Tax 5%|  Total|    Date|               Time|    Payment|  cogs|gross margin percentage|gross income|Rating|\n",
            "+-----------+------+---------+-------------+------+--------------------+----------+--------+------+-------+--------+-------------------+-----------+------+-----------------------+------------+------+\n",
            "|891-01-7034|     B| Mandalay|       Normal|Female|Electronic access...|     74.71|       6|22.413|470.673|1/1/2019|2024-11-13 19:07:00|       Cash|448.26|            4.761904762|      22.413|   6.7|\n",
            "|556-97-7101|     C|Naypyitaw|       Normal|Female|Electronic access...|     63.22|       2| 6.322|132.762|1/1/2019|2024-11-13 15:51:00|       Cash|126.44|            4.761904762|       6.322|   8.5|\n",
            "|416-17-9926|     A|   Yangon|       Member|Female|Electronic access...|     74.22|      10| 37.11| 779.31|1/1/2019|2024-11-13 14:42:00|Credit card| 742.2|            4.761904762|       37.11|   4.3|\n",
            "+-----------+------+---------+-------------+------+--------------------+----------+--------+------+-------+--------+-------------------+-----------+------+-----------------------+------------+------+\n",
            "\n",
            "Media del precio unitario para 'Electronic accessories' en la fecha 1/1/2019: 70.71666666666667\n"
          ]
        }
      ]
    },
    {
      "cell_type": "markdown",
      "source": [
        "# Moda:\n",
        "Es el valor que más se repite en un conjunto de datos. Si no hay valores repetidos, se dice que no hay moda."
      ],
      "metadata": {
        "id": "DTAM18nJf3T1"
      }
    },
    {
      "cell_type": "code",
      "source": [
        "# Filtramos por una sede(Branch) y una linea de Producto(Product Line)\n",
        "# Para Obtener: La cantidad de productos comprados (Quantity)\n",
        "\n",
        "sede = 'B'\n",
        "linea_producto = 'Fashion accessories'\n",
        "\n",
        "# Filtrar el DataFrame por sede y línea de producto\n",
        "df_filtrado = df.filter((df[\"Branch\"] == sede) & (df[\"Product line\"] == linea_producto))\n",
        "df_filtrado.show()\n",
        "# Calcular la moda de la cantidad de productos que compran por sede en cierta sede *df_filtrado\n",
        "moda = df_filtrado.groupBy(\"Quantity\").count().orderBy(\"count\", ascending=False).first()[\"Quantity\"]\n",
        "\n",
        "# Resultado\n",
        "print(f\"La linea de Producto '{linea_producto}' en la sede {sede}: {moda}\")"
      ],
      "metadata": {
        "colab": {
          "base_uri": "https://localhost:8080/"
        },
        "id": "vSY3HVuAfeBQ",
        "outputId": "b6cc1b75-b81f-471c-8d0e-a91c00988677"
      },
      "execution_count": null,
      "outputs": [
        {
          "output_type": "stream",
          "name": "stdout",
          "text": [
            "+-----------+------+--------+-------------+------+-------------------+----------+--------+-------+--------+---------+-------------------+-----------+------+-----------------------+------------+------+\n",
            "| Invoice ID|Branch|    City|Customer type|Gender|       Product line|Unit price|Quantity| Tax 5%|   Total|     Date|               Time|    Payment|  cogs|gross margin percentage|gross income|Rating|\n",
            "+-----------+------+--------+-------------+------+-------------------+----------+--------+-------+--------+---------+-------------------+-----------+------+-----------------------+------------+------+\n",
            "|351-62-0822|     B|Mandalay|       Member|Female|Fashion accessories|     14.48|       4|  2.896|  60.816| 2/6/2019|2024-11-13 18:07:00|    Ewallet| 57.92|            4.761904762|       2.896|   4.5|\n",
            "|649-29-6775|     B|Mandalay|       Normal|  Male|Fashion accessories|     33.52|       1|  1.676|  35.196| 2/8/2019|2024-11-13 15:31:00|       Cash| 33.52|            4.761904762|       1.676|   6.7|\n",
            "|871-79-8483|     B|Mandalay|       Normal|  Male|Fashion accessories|     94.13|       5|23.5325|494.1825|2/25/2019|2024-11-13 19:39:00|Credit card|470.65|            4.761904762|     23.5325|   4.8|\n",
            "|616-24-2851|     B|Mandalay|       Member|Female|Fashion accessories|     17.87|       4|  3.574|  75.054|3/22/2019|2024-11-13 14:42:00|    Ewallet| 71.48|            4.761904762|       3.574|   6.5|\n",
            "|109-28-2512|     B|Mandalay|       Member|Female|Fashion accessories|     97.61|       6| 29.283| 614.943| 1/7/2019|2024-11-13 15:01:00|    Ewallet|585.66|            4.761904762|      29.283|   9.9|\n",
            "|227-78-1148|     B|Mandalay|       Normal|Female|Fashion accessories|     72.84|       7| 25.494| 535.374|2/15/2019|2024-11-13 12:44:00|       Cash|509.88|            4.761904762|      25.494|   8.4|\n",
            "|291-32-1427|     B|Mandalay|       Member|  Male|Fashion accessories|     21.94|       5|  5.485| 115.185| 3/5/2019|2024-11-13 12:29:00|    Ewallet| 109.7|            4.761904762|       5.485|   5.3|\n",
            "|659-65-8956|     B|Mandalay|       Member|  Male|Fashion accessories|     51.36|       1|  2.568|  53.928|1/16/2019|2024-11-13 15:26:00|    Ewallet| 51.36|            4.761904762|       2.568|   5.2|\n",
            "|268-27-6179|     B|Mandalay|       Member|Female|Fashion accessories|     56.47|       8| 22.588| 474.348| 3/9/2019|2024-11-13 14:57:00|    Ewallet|451.76|            4.761904762|      22.588|   7.3|\n",
            "|191-10-6171|     B|Mandalay|       Normal|Female|Fashion accessories|     39.62|       7| 13.867| 291.207|1/25/2019|2024-11-13 13:18:00|       Cash|277.34|            4.761904762|      13.867|   7.5|\n",
            "|608-96-3517|     B|Mandalay|       Member|Female|Fashion accessories|     91.54|       4| 18.308| 384.468|3/23/2019|2024-11-13 19:20:00|Credit card|366.16|            4.761904762|      18.308|   4.8|\n",
            "|437-58-8131|     B|Mandalay|       Normal|Female|Fashion accessories|     73.52|       2|  7.352| 154.392|1/15/2019|2024-11-13 13:41:00|    Ewallet|147.04|            4.761904762|       7.352|   4.6|\n",
            "|573-58-9734|     B|Mandalay|       Normal|Female|Fashion accessories|     30.37|       3| 4.5555| 95.6655|3/28/2019|2024-11-13 13:41:00|    Ewallet| 91.11|            4.761904762|      4.5555|   5.1|\n",
            "|549-03-9315|     B|Mandalay|       Normal|  Male|Fashion accessories|     94.87|       8| 37.948| 796.908|2/12/2019|2024-11-13 12:58:00|    Ewallet|758.96|            4.761904762|      37.948|   8.7|\n",
            "|289-65-5721|     B|Mandalay|       Normal|Female|Fashion accessories|     81.37|       2|  8.137| 170.877|1/26/2019|2024-11-13 19:28:00|       Cash|162.74|            4.761904762|       8.137|   6.5|\n",
            "|269-04-5750|     B|Mandalay|       Member|  Male|Fashion accessories|     73.82|       4| 14.764| 310.044|2/21/2019|2024-11-13 18:31:00|       Cash|295.28|            4.761904762|      14.764|   6.7|\n",
            "|110-48-7033|     B|Mandalay|       Member|  Male|Fashion accessories|     32.62|       4|  6.524| 137.004|1/29/2019|2024-11-13 14:12:00|       Cash|130.48|            4.761904762|       6.524|   9.0|\n",
            "|655-85-5130|     B|Mandalay|       Member|Female|Fashion accessories|      38.3|       4|   7.66|  160.86|3/13/2019|2024-11-13 19:22:00|       Cash| 153.2|            4.761904762|        7.66|   5.7|\n",
            "|566-19-5475|     B|Mandalay|       Normal|  Male|Fashion accessories|     47.97|       7|16.7895|352.5795| 1/7/2019|2024-11-13 20:52:00|       Cash|335.79|            4.761904762|     16.7895|   6.2|\n",
            "|115-99-4379|     B|Mandalay|       Member|Female|Fashion accessories|     54.73|       7|19.1555|402.2655|3/14/2019|2024-11-13 19:02:00|Credit card|383.11|            4.761904762|     19.1555|   8.5|\n",
            "+-----------+------+--------+-------------+------+-------------------+----------+--------+-------+--------+---------+-------------------+-----------+------+-----------------------+------------+------+\n",
            "only showing top 20 rows\n",
            "\n",
            "La linea de Producto 'Fashion accessories' en la sede B: 2\n"
          ]
        }
      ]
    },
    {
      "cell_type": "markdown",
      "source": [
        "# Mediana:\n",
        "Es el valor que está en el centro de un conjunto de datos ordenados.\n"
      ],
      "metadata": {
        "id": "xzwX56wOmPo0"
      }
    },
    {
      "cell_type": "code",
      "source": [
        "# Filtramos por un metodo de pago(Payment) y la cantidad de productos comprados(Quantity)\n",
        "# Para Obtener: Un promedio del precio total que compran con ciertos metodos de pago\n",
        "\n",
        "pago = 'Credit card'\n",
        "cantidad = '10'\n",
        "\n",
        "# Filtrar el DataFrame por sede y línea de producto\n",
        "df_filtrado = df.filter((df[\"Payment\"] == pago) & (df[\"Quantity\"] == cantidad))\n",
        "df_filtrado.show()\n",
        "# Calcular la mediana del total que pagan los clientes *df_filtrado\n",
        "percentage = df_filtrado.approxQuantile(\"Total\", [0.5], 0.0)\n",
        "mediana = percentage\n",
        "\n",
        "# Resultado\n",
        "print(f\"El clientes pagan con '{pago}' para comprar {cantidad} cantidad: ${mediana}\")"
      ],
      "metadata": {
        "colab": {
          "base_uri": "https://localhost:8080/"
        },
        "id": "8DDQ87agmOVR",
        "outputId": "46bbb0d2-05b4-4d4a-bcb1-64954be4f506"
      },
      "execution_count": null,
      "outputs": [
        {
          "output_type": "stream",
          "name": "stdout",
          "text": [
            "+-----------+------+---------+-------------+------+--------------------+----------+--------+------+--------+---------+-------------------+-----------+-----+-----------------------+------------+------+\n",
            "| Invoice ID|Branch|     City|Customer type|Gender|        Product line|Unit price|Quantity|Tax 5%|   Total|     Date|               Time|    Payment| cogs|gross margin percentage|gross income|Rating|\n",
            "+-----------+------+---------+-------------+------+--------------------+----------+--------+------+--------+---------+-------------------+-----------+-----+-----------------------+------------+------+\n",
            "|199-75-8169|     A|   Yangon|       Member|  Male|   Sports and travel|     15.81|      10| 7.905| 166.005| 3/6/2019|2024-11-13 12:27:00|Credit card|158.1|            4.761904762|       7.905|   8.6|\n",
            "|393-65-2792|     C|Naypyitaw|       Normal|  Male|  Food and beverages|     89.48|      10| 44.74|  939.54| 1/6/2019|2024-11-13 12:46:00|Credit card|894.8|            4.761904762|       44.74|   9.6|\n",
            "|732-94-0499|     C|Naypyitaw|       Normal|Female|Electronic access...|     41.65|      10|20.825| 437.325|1/13/2019|2024-11-13 17:04:00|Credit card|416.5|            4.761904762|      20.825|   5.4|\n",
            "|731-81-9469|     C|Naypyitaw|       Member|Female|   Sports and travel|      89.8|      10|  44.9|   942.9|1/23/2019|2024-11-13 13:00:00|Credit card|898.0|            4.761904762|        44.9|   5.4|\n",
            "|548-46-9322|     B| Mandalay|       Normal|  Male|  Food and beverages|      39.9|      10| 19.95|  418.95|2/20/2019|2024-11-13 15:24:00|Credit card|399.0|            4.761904762|       19.95|   5.9|\n",
            "|687-47-8271|     A|   Yangon|       Normal|  Male| Fashion accessories|     98.98|      10| 49.49| 1039.29| 2/8/2019|2024-11-13 16:20:00|Credit card|989.8|            4.761904762|       49.49|   8.7|\n",
            "|662-47-5456|     C|Naypyitaw|       Member|  Male| Fashion accessories|     35.19|      10|17.595| 369.495|3/17/2019|2024-11-13 19:06:00|Credit card|351.9|            4.761904762|      17.595|   8.4|\n",
            "|828-61-5674|     A|   Yangon|       Member|  Male|   Sports and travel|     44.02|      10| 22.01|  462.21|3/20/2019|2024-11-13 19:57:00|Credit card|440.2|            4.761904762|       22.01|   9.6|\n",
            "|139-20-0155|     B| Mandalay|       Member|  Male|Electronic access...|      40.3|      10| 20.15|  423.15|1/24/2019|2024-11-13 17:37:00|Credit card|403.0|            4.761904762|       20.15|   7.0|\n",
            "|400-45-1220|     B| Mandalay|       Normal|Female|   Health and beauty|      13.5|      10|  6.75|  141.75|2/27/2019|2024-11-13 11:06:00|Credit card|135.0|            4.761904762|        6.75|   4.8|\n",
            "|860-79-0874|     C|Naypyitaw|       Member|Female| Fashion accessories|      99.3|      10| 49.65| 1042.65|2/15/2019|2024-11-13 14:53:00|Credit card|993.0|            4.761904762|       49.65|   6.6|\n",
            "|632-90-0281|     C|Naypyitaw|       Normal|Female| Fashion accessories|     37.55|      10|18.775| 394.275| 3/8/2019|2024-11-13 20:01:00|Credit card|375.5|            4.761904762|      18.775|   9.3|\n",
            "|725-56-0833|     A|   Yangon|       Normal|Female|   Health and beauty|     32.32|      10| 16.16|  339.36|2/20/2019|2024-11-13 16:49:00|Credit card|323.2|            4.761904762|       16.16|  10.0|\n",
            "|308-47-4913|     A|   Yangon|       Member|Female|   Sports and travel|     52.26|      10| 26.13|  548.73| 3/9/2019|2024-11-13 12:45:00|Credit card|522.6|            4.761904762|       26.13|   6.2|\n",
            "|271-88-8734|     C|Naypyitaw|       Member|Female| Fashion accessories|     97.21|      10|48.605|1020.705| 2/8/2019|2024-11-13 13:00:00|Credit card|972.1|            4.761904762|      48.605|   8.7|\n",
            "|235-46-8343|     C|Naypyitaw|       Member|  Male|  Food and beverages|     27.66|      10| 13.83|  290.43|2/14/2019|2024-11-13 11:26:00|Credit card|276.6|            4.761904762|       13.83|   8.9|\n",
            "|234-03-4040|     B| Mandalay|       Member|Female|  Food and beverages|     73.05|      10|36.525| 767.025| 3/3/2019|2024-11-13 12:25:00|Credit card|730.5|            4.761904762|      36.525|   8.7|\n",
            "|878-30-2331|     C|Naypyitaw|       Member|Female|   Sports and travel|     54.55|      10|27.275| 572.775| 3/2/2019|2024-11-13 11:22:00|Credit card|545.5|            4.761904762|      27.275|   7.1|\n",
            "|405-31-3305|     A|   Yangon|       Member|  Male| Fashion accessories|     43.13|      10|21.565| 452.865| 2/2/2019|2024-11-13 18:31:00|Credit card|431.3|            4.761904762|      21.565|   5.5|\n",
            "|493-65-6248|     C|Naypyitaw|       Member|Female|   Sports and travel|     36.98|      10| 18.49|  388.29| 1/1/2019|2024-11-13 19:48:00|Credit card|369.8|            4.761904762|       18.49|   7.0|\n",
            "+-----------+------+---------+-------------+------+--------------------+----------+--------+------+--------+---------+-------------------+-----------+-----+-----------------------+------------+------+\n",
            "only showing top 20 rows\n",
            "\n",
            "El clientes pagan con 'Credit card' para comprar 10 cantidad: $[570.78]\n"
          ]
        }
      ]
    },
    {
      "cell_type": "markdown",
      "source": [
        "**Correlación:**\n",
        "Mide la relación entre dos variables. Indica si hay una relación directa (positiva), inversa (negativa) o si no existe ninguna (cero). Se mide entre -1 y 1, donde valores cercanos a 1 o -1 indican una relación fuerte y cercanos a 0, una relación débil."
      ],
      "metadata": {
        "id": "whOXWHsY0HFC"
      }
    },
    {
      "cell_type": "code",
      "source": [
        "# Filtramos por linea de producto (Product Line) y perido de tiempo (><Date)\n",
        "# Para Obtener: una relacion entre las variables del precio unitario y la cantidad\n",
        "fecha = '3/30/2019'\n",
        "\n",
        "linea1 = 'Food and beverages'\n",
        "\n",
        "# Filtrar el DataFrame por sede y línea de producto\n",
        "df_filtrado = df.filter((df[\"Date\"] > fecha) & (df[\"Product line\"] == linea1))\n",
        "df_filtrado.show()\n",
        "\n",
        "# Calcular la correlación entre 'Unit price' y 'Quantity' para df_filtrado1\n",
        "correlation = df_filtrado.select(corr(df[\"Unit price\"], df[\"Quantity\"]).alias(\"correlation\")).collect()[0][\"correlation\"]\n",
        "\n",
        "# Resultados\n",
        "print(f\"Correlación entre 'Unit price' y 'Quantity' para la {fecha} en adelante: {correlation}\")"
      ],
      "metadata": {
        "colab": {
          "base_uri": "https://localhost:8080/"
        },
        "id": "Jt0sI9sV0JDf",
        "outputId": "1657463a-95e9-4068-a9dd-ba1f48914e90"
      },
      "execution_count": 113,
      "outputs": [
        {
          "output_type": "stream",
          "name": "stdout",
          "text": [
            "+-----------+------+---------+-------------+------+------------------+----------+--------+-------+--------+--------+-------------------+-------+------+-----------------------+------------+------+\n",
            "| Invoice ID|Branch|     City|Customer type|Gender|      Product line|Unit price|Quantity| Tax 5%|   Total|    Date|               Time|Payment|  cogs|gross margin percentage|gross income|Rating|\n",
            "+-----------+------+---------+-------------+------+------------------+----------+--------+-------+--------+--------+-------------------+-------+------+-----------------------+------------+------+\n",
            "|228-96-1411|     C|Naypyitaw|       Member|Female|Food and beverages|      98.7|       8|  39.48|  829.08|3/4/2019|2024-11-13 20:39:00|   Cash| 789.6|            4.761904762|       39.48|   7.6|\n",
            "|510-95-6347|     B| Mandalay|       Member|Female|Food and beverages|     48.52|       3|  7.278| 152.838|3/5/2019|2024-11-13 18:17:00|Ewallet|145.56|            4.761904762|       7.278|   4.0|\n",
            "|829-49-1914|     C|Naypyitaw|       Member|Female|Food and beverages|     78.31|      10| 39.155| 822.255|3/5/2019|2024-11-13 16:24:00|Ewallet| 783.1|            4.761904762|      39.155|   6.6|\n",
            "|895-66-0685|     B| Mandalay|       Member|  Male|Food and beverages|     18.08|       3|  2.712|  56.952|3/5/2019|2024-11-13 19:46:00|Ewallet| 54.24|            4.761904762|       2.712|   8.0|\n",
            "|468-01-2051|     B| Mandalay|       Normal|  Male|Food and beverages|     62.08|       7| 21.728| 456.288|3/6/2019|2024-11-13 13:46:00|Ewallet|434.56|            4.761904762|      21.728|   5.4|\n",
            "|815-11-1168|     A|   Yangon|       Member|  Male|Food and beverages|     99.78|       5| 24.945| 523.845|3/9/2019|2024-11-13 19:09:00|   Cash| 498.9|            4.761904762|      24.945|   5.4|\n",
            "|471-41-2823|     C|Naypyitaw|       Normal|  Male|Food and beverages|     99.79|       2|  9.979| 209.559|3/7/2019|2024-11-13 20:37:00|Ewallet|199.58|            4.761904762|       9.979|   8.0|\n",
            "|574-57-9721|     C|Naypyitaw|       Normal|  Male|Food and beverages|     43.27|       2|  4.327|  90.867|3/8/2019|2024-11-13 16:53:00|Ewallet| 86.54|            4.761904762|       4.327|   5.7|\n",
            "|549-96-4200|     C|Naypyitaw|       Member|  Male|Food and beverages|     17.04|       4|  3.408|  71.568|3/8/2019|2024-11-13 20:15:00|Ewallet| 68.16|            4.761904762|       3.408|   7.0|\n",
            "|277-35-5865|     C|Naypyitaw|       Member|Female|Food and beverages|     98.97|       9|44.5365|935.2665|3/9/2019|2024-11-13 11:23:00|   Cash|890.73|            4.761904762|     44.5365|   6.7|\n",
            "|364-33-8584|     B| Mandalay|       Member|Female|Food and beverages|     17.63|       5| 4.4075| 92.5575|3/8/2019|2024-11-13 15:27:00|   Cash| 88.15|            4.761904762|      4.4075|   8.5|\n",
            "|221-25-5073|     A|   Yangon|       Normal|Female|Food and beverages|     74.66|       4| 14.932| 313.572|3/4/2019|2024-11-13 10:39:00|   Cash|298.64|            4.761904762|      14.932|   8.5|\n",
            "+-----------+------+---------+-------------+------+------------------+----------+--------+-------+--------+--------+-------------------+-------+------+-----------------------+------------+------+\n",
            "\n",
            "Correlación entre 'Unit price' y 'Quantity' para la 3/30/2019 en adelante: 0.4242213742234761\n"
          ]
        }
      ]
    },
    {
      "cell_type": "code",
      "source": [
        "spark.stop()"
      ],
      "metadata": {
        "id": "HbQJ-hiLprqo"
      },
      "execution_count": null,
      "outputs": []
    }
  ]
}